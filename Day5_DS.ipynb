{
 "cells": [
  {
   "cell_type": "code",
   "execution_count": 1,
   "id": "c97ad6a5",
   "metadata": {},
   "outputs": [
    {
     "ename": "SyntaxError",
     "evalue": "invalid syntax (1325344515.py, line 1)",
     "output_type": "error",
     "traceback": [
      "\u001b[0;36m  Cell \u001b[0;32mIn[1], line 1\u001b[0;36m\u001b[0m\n\u001b[0;31m    |First_Name | Last_Name|\u001b[0m\n\u001b[0m    ^\u001b[0m\n\u001b[0;31mSyntaxError\u001b[0m\u001b[0;31m:\u001b[0m invalid syntax\n"
     ]
    }
   ],
   "source": [
    "|First_Name | Last_Name|\n",
    "------------------------\n"
   ]
  },
  {
   "cell_type": "markdown",
   "id": "28f15647",
   "metadata": {},
   "source": [
    "|First_Name | Last_Name|\n",
    "------------------------\n",
    "|Jaiden     | Washington|\n",
    "-------------------------\n",
    "|Lakia      | Young"
   ]
  },
  {
   "cell_type": "markdown",
   "id": "a140114e",
   "metadata": {},
   "source": [
    "| First_Name | Last_Name |\n",
    "-------------------------------\n",
    "|Jaiden         | Washington    |\n",
    "------------------------------- |\n",
    "|Lakia          | Young           |"
   ]
  },
  {
   "cell_type": "code",
   "execution_count": 4,
   "id": "8c8138af",
   "metadata": {},
   "outputs": [
    {
     "ename": "SyntaxError",
     "evalue": "invalid syntax (3350434129.py, line 1)",
     "output_type": "error",
     "traceback": [
      "\u001b[0;36m  Cell \u001b[0;32mIn[4], line 1\u001b[0;36m\u001b[0m\n\u001b[0;31m    $S= \\sum_1^6(x^2)\u001b[0m\n\u001b[0m    ^\u001b[0m\n\u001b[0;31mSyntaxError\u001b[0m\u001b[0;31m:\u001b[0m invalid syntax\n"
     ]
    }
   ],
   "source": [
    "$S= \\sum_1^6(x^2)"
   ]
  },
  {
   "cell_type": "code",
   "execution_count": 5,
   "id": "bc927ffc",
   "metadata": {},
   "outputs": [
    {
     "ename": "SyntaxError",
     "evalue": "invalid syntax (1091699667.py, line 1)",
     "output_type": "error",
     "traceback": [
      "\u001b[0;36m  Cell \u001b[0;32mIn[5], line 1\u001b[0;36m\u001b[0m\n\u001b[0;31m    $S= \\sum_1^6(x^2)$\u001b[0m\n\u001b[0m    ^\u001b[0m\n\u001b[0;31mSyntaxError\u001b[0m\u001b[0;31m:\u001b[0m invalid syntax\n"
     ]
    }
   ],
   "source": [
    "$S= \\sum_1^6(x^2)$"
   ]
  },
  {
   "cell_type": "code",
   "execution_count": null,
   "id": "990da4fe",
   "metadata": {},
   "outputs": [],
   "source": []
  }
 ],
 "metadata": {
  "kernelspec": {
   "display_name": "Python 3 (ipykernel)",
   "language": "python",
   "name": "python3"
  },
  "language_info": {
   "codemirror_mode": {
    "name": "ipython",
    "version": 3
   },
   "file_extension": ".py",
   "mimetype": "text/x-python",
   "name": "python",
   "nbconvert_exporter": "python",
   "pygments_lexer": "ipython3",
   "version": "3.11.4"
  }
 },
 "nbformat": 4,
 "nbformat_minor": 5
}
